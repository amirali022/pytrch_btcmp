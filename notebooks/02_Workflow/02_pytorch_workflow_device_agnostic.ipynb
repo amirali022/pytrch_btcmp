{
 "cells": [
  {
   "cell_type": "code",
   "execution_count": 1,
   "metadata": {},
   "outputs": [
    {
     "data": {
      "text/plain": [
       "'2.2.2+cu121'"
      ]
     },
     "execution_count": 1,
     "metadata": {},
     "output_type": "execute_result"
    }
   ],
   "source": [
    "import torch\n",
    "from torch import nn\n",
    "import matplotlib.pyplot as plt\n",
    "from pathlib import Path\n",
    "\n",
    "torch.__version__"
   ]
  },
  {
   "cell_type": "code",
   "execution_count": 2,
   "metadata": {},
   "outputs": [
    {
     "name": "stdout",
     "output_type": "stream",
     "text": [
      "Using device: cuda\n"
     ]
    }
   ],
   "source": [
    "device = \"cuda\" if torch.cuda.is_available() else \"cpu\"\n",
    "\n",
    "print( f\"Using device: { device}\")"
   ]
  },
  {
   "cell_type": "markdown",
   "metadata": {},
   "source": [
    "## Data"
   ]
  },
  {
   "cell_type": "code",
   "execution_count": 3,
   "metadata": {},
   "outputs": [
    {
     "data": {
      "text/plain": [
       "(tensor([[0.0000],\n",
       "         [0.0200],\n",
       "         [0.0400],\n",
       "         [0.0600],\n",
       "         [0.0800],\n",
       "         [0.1000],\n",
       "         [0.1200],\n",
       "         [0.1400],\n",
       "         [0.1600],\n",
       "         [0.1800]], device='cuda:0'),\n",
       " tensor([[0.1000],\n",
       "         [0.1080],\n",
       "         [0.1160],\n",
       "         [0.1240],\n",
       "         [0.1320],\n",
       "         [0.1400],\n",
       "         [0.1480],\n",
       "         [0.1560],\n",
       "         [0.1640],\n",
       "         [0.1720]], device='cuda:0'))"
      ]
     },
     "execution_count": 3,
     "metadata": {},
     "output_type": "execute_result"
    }
   ],
   "source": [
    "weight = 0.4\n",
    "\n",
    "bias = 0.1\n",
    "\n",
    "start = 0\n",
    "end = 1\n",
    "step = 0.02\n",
    "\n",
    "X = torch.arange( start, end, step, device=device).unsqueeze( dim=1)\n",
    "y = weight * X + bias\n",
    "\n",
    "X[ :10], y[ :10]"
   ]
  },
  {
   "cell_type": "code",
   "execution_count": 4,
   "metadata": {},
   "outputs": [
    {
     "data": {
      "text/plain": [
       "(40, 40, 10, 10)"
      ]
     },
     "execution_count": 4,
     "metadata": {},
     "output_type": "execute_result"
    }
   ],
   "source": [
    "# Split data\n",
    "train_split = int( 0.8 * len( X))\n",
    "\n",
    "X_train, y_train = X[ :train_split], y[ :train_split]\n",
    "X_test, y_test = X[ train_split:], y[ train_split:]\n",
    "\n",
    "len( X_train), len( y_train), len( X_test), len( y_test)"
   ]
  },
  {
   "cell_type": "code",
   "execution_count": 5,
   "metadata": {},
   "outputs": [],
   "source": [
    "def plot_predictions(\n",
    "\t\ttrain_data=X_train.cpu(),\n",
    "\t\ttrain_labels=y_train.cpu(),\n",
    "\t\ttest_data=X_test.cpu(),\n",
    "\t\ttest_labels=y_test.cpu(),\n",
    "\t\tpredictions=None\n",
    "):\n",
    "\tplt.figure( figsize=( 10, 7))\n",
    "\n",
    "\tplt.scatter( train_data, train_labels, c=\"b\", s=4, label=\"Training Data\")\n",
    "\n",
    "\tplt.scatter( test_data, test_labels, c=\"g\", s=4, label=\"Testing Data\")\n",
    "\n",
    "\tif predictions is not None:\n",
    "\t\tplt.scatter( test_data, predictions, c=\"r\", s=4, label=\"Predictions\")\n",
    "\n",
    "\tplt.legend( prop={ \"size\": 14})\n",
    "\n",
    "\tplt.show()"
   ]
  },
  {
   "cell_type": "code",
   "execution_count": 6,
   "metadata": {},
   "outputs": [
    {
     "data": {
      "image/png": "[encoded data removed]",
      "text/plain": [
       "<Figure size 1000x700 with 1 Axes>"
      ]
     },
     "metadata": {},
     "output_type": "display_data"
    }
   ],
   "source": [
    "plot_predictions()"
   ]
  },
  {
   "cell_type": "markdown",
   "metadata": {},
   "source": [
    "## Model"
   ]
  },
  {
   "cell_type": "code",
   "execution_count": 7,
   "metadata": {},
   "outputs": [
    {
     "data": {
      "text/plain": [
       "(LinearRegressionModel(\n",
       "   (linear_layer): Linear(in_features=1, out_features=1, bias=True)\n",
       " ),\n",
       " OrderedDict([('linear_layer.weight', tensor([[0.7645]])),\n",
       "              ('linear_layer.bias', tensor([0.8300]))]))"
      ]
     },
     "execution_count": 7,
     "metadata": {},
     "output_type": "execute_result"
    }
   ],
   "source": [
    "class LinearRegressionModel( nn.Module):\n",
    "\tdef __init__( self):\n",
    "\t\tsuper().__init__()\n",
    "\n",
    "\t\t# Use nn.Linear for creating the parameters\n",
    "\n",
    "\t\tself.linear_layer = nn.Linear( in_features=1, out_features=1)\n",
    "\n",
    "\tdef forward( self, x: torch.Tensor) -> torch.Tensor:\n",
    "\t\treturn self.linear_layer( x)\n",
    "\t\n",
    "# Set the manual seed\n",
    "torch.manual_seed( 42)\n",
    "\n",
    "model_1 = LinearRegressionModel()\n",
    "model_1, model_1.state_dict()"
   ]
  },
  {
   "cell_type": "code",
   "execution_count": 8,
   "metadata": {},
   "outputs": [
    {
     "data": {
      "text/plain": [
       "device(type='cpu')"
      ]
     },
     "execution_count": 8,
     "metadata": {},
     "output_type": "execute_result"
    }
   ],
   "source": [
    "# check the model current device\n",
    "next( model_1.parameters()).device"
   ]
  },
  {
   "cell_type": "code",
   "execution_count": 9,
   "metadata": {},
   "outputs": [
    {
     "data": {
      "text/plain": [
       "device(type='cuda', index=0)"
      ]
     },
     "execution_count": 9,
     "metadata": {},
     "output_type": "execute_result"
    }
   ],
   "source": [
    "model_1.to( device)\n",
    "next( model_1.parameters()).device"
   ]
  },
  {
   "cell_type": "markdown",
   "metadata": {},
   "source": [
    "## Training"
   ]
  },
  {
   "cell_type": "code",
   "execution_count": 10,
   "metadata": {},
   "outputs": [],
   "source": [
    "# setup loss function\n",
    "loss_fn = nn.L1Loss()\n",
    "\n",
    "# setup optimizer\n",
    "optimizer = torch.optim.SGD( params=model_1.parameters(), lr=0.01)"
   ]
  },
  {
   "cell_type": "code",
   "execution_count": 11,
   "metadata": {},
   "outputs": [
    {
     "name": "stdout",
     "output_type": "stream",
     "text": [
      "Epoch: 0 | Loss: 0.8721778988838196 | Test Loss: 1.0409761667251587\n",
      "Epoch: 10 | Loss: 0.756968080997467 | Test Loss: 0.9062663912773132\n",
      "Epoch: 20 | Loss: 0.641758143901825 | Test Loss: 0.771556556224823\n",
      "Epoch: 30 | Loss: 0.5265483260154724 | Test Loss: 0.6368467211723328\n",
      "Epoch: 40 | Loss: 0.4113384187221527 | Test Loss: 0.5021368861198425\n",
      "Epoch: 50 | Loss: 0.2961285710334778 | Test Loss: 0.3674270808696747\n",
      "Epoch: 60 | Loss: 0.18091867864131927 | Test Loss: 0.23271718621253967\n",
      "Epoch: 70 | Loss: 0.06570865213871002 | Test Loss: 0.09800722450017929\n",
      "Epoch: 80 | Loss: 0.011952430009841919 | Test Loss: 0.02744966745376587\n",
      "Epoch: 90 | Loss: 0.008513589389622211 | Test Loss: 0.019177233800292015\n",
      "Epoch: 100 | Loss: 0.0050748055800795555 | Test Loss: 0.010904788970947266\n",
      "Epoch: 110 | Loss: 0.001640075701288879 | Test Loss: 0.003319242736324668\n",
      "Epoch: 120 | Loss: 0.008293048478662968 | Test Loss: 0.005432430189102888\n",
      "Epoch: 130 | Loss: 0.008293048478662968 | Test Loss: 0.005432430189102888\n",
      "Epoch: 140 | Loss: 0.008293048478662968 | Test Loss: 0.005432430189102888\n",
      "Epoch: 150 | Loss: 0.008293048478662968 | Test Loss: 0.005432430189102888\n",
      "Epoch: 160 | Loss: 0.008293048478662968 | Test Loss: 0.005432430189102888\n",
      "Epoch: 170 | Loss: 0.008293048478662968 | Test Loss: 0.005432430189102888\n",
      "Epoch: 180 | Loss: 0.008293048478662968 | Test Loss: 0.005432430189102888\n",
      "Epoch: 190 | Loss: 0.008293048478662968 | Test Loss: 0.005432430189102888\n"
     ]
    }
   ],
   "source": [
    "# training loop\n",
    "\n",
    "torch.manual_seed( 42)\n",
    "\n",
    "epochs = 200\n",
    "\n",
    "for epoch in range( epochs):\n",
    "\tmodel_1.train()\n",
    "\n",
    "\t# 1. forward pass\n",
    "\ty_pred = model_1( X_train)\n",
    "\n",
    "\t# 2. calculate loss\n",
    "\tloss = loss_fn( y_pred, y_train)\n",
    "\n",
    "\t# 3. optimizer zero grad\n",
    "\toptimizer.zero_grad()\n",
    "\n",
    "\t# 4. perform backpropagation\n",
    "\tloss.backward()\n",
    "\n",
    "\t# 5. optimizer step\n",
    "\toptimizer.step()\n",
    "\n",
    "\t### Testing\n",
    "\twith torch.inference_mode():\n",
    "\t\ttest_pred = model_1( X_test)\n",
    "\n",
    "\t\ttest_loss = loss_fn( test_pred, y_test)\n",
    "\n",
    "\tif epoch % 10 == 0:\n",
    "\t\tprint( f\"Epoch: { epoch} | Loss: { loss} | Test Loss: { test_loss}\")\n"
   ]
  },
  {
   "cell_type": "code",
   "execution_count": 12,
   "metadata": {},
   "outputs": [
    {
     "data": {
      "text/plain": [
       "OrderedDict([('linear_layer.weight', tensor([[0.4005]], device='cuda:0')),\n",
       "             ('linear_layer.bias', tensor([0.0915], device='cuda:0'))])"
      ]
     },
     "execution_count": 12,
     "metadata": {},
     "output_type": "execute_result"
    }
   ],
   "source": [
    "model_1.state_dict()"
   ]
  },
  {
   "cell_type": "markdown",
   "metadata": {},
   "source": [
    "## Prediction"
   ]
  },
  {
   "cell_type": "code",
   "execution_count": 13,
   "metadata": {},
   "outputs": [
    {
     "data": {
      "image/png": "[encoded data removed]",
      "text/plain": [
       "<Figure size 1000x700 with 1 Axes>"
      ]
     },
     "metadata": {},
     "output_type": "display_data"
    }
   ],
   "source": [
    "model_1.eval()\n",
    "\n",
    "with torch.inference_mode():\n",
    "\ty_preds = model_1( X_test)\n",
    "\n",
    "plot_predictions( predictions=y_preds.cpu())"
   ]
  },
  {
   "cell_type": "markdown",
   "metadata": {},
   "source": [
    "## Saving and Loading Model"
   ]
  },
  {
   "cell_type": "code",
   "execution_count": 14,
   "metadata": {},
   "outputs": [
    {
     "data": {
      "text/plain": [
       "WindowsPath('models/02_pytorch_workflow_model_1.pth')"
      ]
     },
     "execution_count": 14,
     "metadata": {},
     "output_type": "execute_result"
    }
   ],
   "source": [
    "MODEL_PATH = Path( \"models\")\n",
    "MODEL_PATH.mkdir( parents=True, exist_ok=True)\n",
    "\n",
    "MODEL_NAME = \"02_pytorch_workflow_model_1.pth\"\n",
    "MODEL_SAVE_PATH = MODEL_PATH / MODEL_NAME\n",
    "\n",
    "MODEL_SAVE_PATH"
   ]
  },
  {
   "cell_type": "code",
   "execution_count": 15,
   "metadata": {},
   "outputs": [
    {
     "name": "stdout",
     "output_type": "stream",
     "text": [
      "Saving model to: models\\02_pytorch_workflow_model_1.pth\n"
     ]
    }
   ],
   "source": [
    "print( f\"Saving model to: { MODEL_SAVE_PATH}\")\n",
    "torch.save(\n",
    "\tobj=model_1.state_dict(),\n",
    "\tf=MODEL_SAVE_PATH\n",
    ")"
   ]
  },
  {
   "cell_type": "code",
   "execution_count": 16,
   "metadata": {},
   "outputs": [
    {
     "data": {
      "text/plain": [
       "LinearRegressionModel(\n",
       "  (linear_layer): Linear(in_features=1, out_features=1, bias=True)\n",
       ")"
      ]
     },
     "execution_count": 16,
     "metadata": {},
     "output_type": "execute_result"
    }
   ],
   "source": [
    "loaded_model_1 = LinearRegressionModel()\n",
    "\n",
    "loaded_model_1.load_state_dict( torch.load( f=MODEL_SAVE_PATH))\n",
    "\n",
    "loaded_model_1.to( device)"
   ]
  },
  {
   "cell_type": "code",
   "execution_count": 17,
   "metadata": {},
   "outputs": [
    {
     "data": {
      "text/plain": [
       "device(type='cuda', index=0)"
      ]
     },
     "execution_count": 17,
     "metadata": {},
     "output_type": "execute_result"
    }
   ],
   "source": [
    "next( loaded_model_1.parameters()).device"
   ]
  },
  {
   "cell_type": "code",
   "execution_count": 18,
   "metadata": {},
   "outputs": [
    {
     "data": {
      "text/plain": [
       "OrderedDict([('linear_layer.weight', tensor([[0.4005]], device='cuda:0')),\n",
       "             ('linear_layer.bias', tensor([0.0915], device='cuda:0'))])"
      ]
     },
     "execution_count": 18,
     "metadata": {},
     "output_type": "execute_result"
    }
   ],
   "source": [
    "loaded_model_1.state_dict()"
   ]
  },
  {
   "cell_type": "code",
   "execution_count": 19,
   "metadata": {},
   "outputs": [
    {
     "data": {
      "text/plain": [
       "tensor([[True],\n",
       "        [True],\n",
       "        [True],\n",
       "        [True],\n",
       "        [True],\n",
       "        [True],\n",
       "        [True],\n",
       "        [True],\n",
       "        [True],\n",
       "        [True]], device='cuda:0')"
      ]
     },
     "execution_count": 19,
     "metadata": {},
     "output_type": "execute_result"
    }
   ],
   "source": [
    "loaded_model_1.eval()\n",
    "\n",
    "with torch.inference_mode():\n",
    "\tloaded_model_1_preds = loaded_model_1( X_test)\n",
    "\n",
    "y_preds == loaded_model_1_preds"
   ]
  }
 ],
 "metadata": {
  "kernelspec": {
   "display_name": "Python 3",
   "language": "python",
   "name": "python3"
  },
  "language_info": {
   "codemirror_mode": {
    "name": "ipython",
    "version": 3
   },
   "file_extension": ".py",
   "mimetype": "text/x-python",
   "name": "python",
   "nbconvert_exporter": "python",
   "pygments_lexer": "ipython3",
   "version": "3.11.7"
  }
 },
 "nbformat": 4,
 "nbformat_minor": 2
}
