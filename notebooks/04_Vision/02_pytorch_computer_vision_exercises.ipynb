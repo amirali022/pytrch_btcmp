{
  "cells": [
    {
      "cell_type": "markdown",
      "metadata": {
        "id": "Vex99np2wFVt"
      },
      "source": [
        "# PyTorch Computer Vision Exercises"
      ]
    },
    {
      "cell_type": "code",
      "execution_count": 1,
      "metadata": {
        "colab": {
          "base_uri": "https://localhost:8080/",
          "height": 53
        },
        "id": "DNwZLMbCzJLk",
        "outputId": "9c150c50-a092-4f34-9d33-b45247fb080d"
      },
      "outputs": [
        {
          "name": "stdout",
          "output_type": "stream",
          "text": [
            "2.2.2+cu121\n",
            "cuda\n"
          ]
        }
      ],
      "source": [
        "# Import torch\n",
        "import torch\n",
        "\n",
        "print( torch.__version__)\n",
        "\n",
        "# Setup device agnostic code\n",
        "device = \"cuda\" if torch.cuda.is_available() else \"cpu\"\n",
        "\n",
        "print( device)"
      ]
    },
    {
      "cell_type": "markdown",
      "metadata": {
        "id": "FSFX7tc1w-en"
      },
      "source": [
        "## 1. What are 3 areas in industry where computer vision is currently being used?"
      ]
    },
    {
      "cell_type": "markdown",
      "metadata": {},
      "source": [
        "1. Healthcare (Medical imaging, diagnosis, etc.)\n",
        "2. Surveilance and Monitoring\n",
        "3. Agriculture (Crop monitoring)\n",
        "4. Automobile Engineering\n",
        "5. Automated production"
      ]
    },
    {
      "cell_type": "markdown",
      "metadata": {
        "id": "oBK-WI6YxDYa"
      },
      "source": [
        "## 2. Search \"what is overfitting in machine learning\" and write down a sentence about what you find. "
      ]
    },
    {
      "cell_type": "markdown",
      "metadata": {},
      "source": [
        "Overfitting occurs when the model cannot generalize and fits too closely to the training dataset instead."
      ]
    },
    {
      "cell_type": "markdown",
      "metadata": {
        "id": "XeYFEqw8xK26"
      },
      "source": [
        "## 3. Search \"ways to prevent overfitting in machine learning\", write down 3 of the things you find and a sentence about each. \n",
        "> **Note:** there are lots of these, so don't worry too much about all of them, just pick 3 and start with those."
      ]
    },
    {
      "cell_type": "markdown",
      "metadata": {
        "id": "ocvOdWKcbEKr"
      },
      "source": [
        "1. **Early Stopping:** early stopping pauses the training phase before machine learning model learns the noise in the data.\n",
        "\n",
        "2. **Pruning:** feature selection -or pruning- identifies the most important features within the training set and eliminates irrelevant ones.\n",
        "\n",
        "3. **Regularization:** a collection of training/optimization techniques that seek to reduce overfitting by trying to eliminate those factors that do not impact the prediction outcomes by grading features based on importance.\n",
        "\n",
        "4. **Ensembling:** ensembling combines prediction from several seperate machine learning algorithms which are called weak learners because their results are often inaccurate. Ensemble methods combine all the weak learners to get more accurate results.\n",
        "\n",
        "5. **Data Augmentation:** it is a technique that changes the sample data slightly every time the model processes it. when done in moderation, data augmentation makes the training sets appear unique to the model and prevents the model from learning their characteristics i.e. overfitting."
      ]
    },
    {
      "cell_type": "markdown",
      "metadata": {
        "id": "DKdEEFEqxM-8"
      },
      "source": [
        "## 4. Spend 20-minutes reading and clicking through the [CNN Explainer website](https://poloclub.github.io/cnn-explainer/).\n",
        "\n",
        "* Upload your own example image using the \"upload\" button on the website and see what happens in each layer of a CNN as your image passes through it."
      ]
    },
    {
      "cell_type": "markdown",
      "metadata": {
        "id": "lvf-3pODxXYI"
      },
      "source": [
        "## 5. Load the [`torchvision.datasets.MNIST()`](https://pytorch.org/vision/stable/generated/torchvision.datasets.MNIST.html#torchvision.datasets.MNIST) train and test datasets."
      ]
    },
    {
      "cell_type": "code",
      "execution_count": 2,
      "metadata": {
        "id": "SHjeuN81bHza"
      },
      "outputs": [],
      "source": [
        "from torchvision import datasets\n",
        "from torchvision.transforms import ToTensor\n",
        "\n",
        "train_data = datasets.MNIST(\n",
        "\troot=\"data\",\n",
        "\ttrain=True,\n",
        "\tdownload=True,\n",
        "\ttransform=ToTensor(),\n",
        "\ttarget_transform=None\n",
        ")\n",
        "\n",
        "test_data = datasets.MNIST(\n",
        "\troot=\"data\",\n",
        "\ttrain=False,\n",
        "\tdownload=True,\n",
        "\ttransform=ToTensor(),\n",
        "\ttarget_transform=None\n",
        ")"
      ]
    },
    {
      "cell_type": "code",
      "execution_count": 3,
      "metadata": {},
      "outputs": [
        {
          "data": {
            "text/plain": [
              "(60000, 10000)"
            ]
          },
          "execution_count": 3,
          "metadata": {},
          "output_type": "execute_result"
        }
      ],
      "source": [
        "len( train_data), len( test_data)"
      ]
    },
    {
      "cell_type": "code",
      "execution_count": 4,
      "metadata": {},
      "outputs": [
        {
          "data": {
            "text/plain": [
              "['0 - zero',\n",
              " '1 - one',\n",
              " '2 - two',\n",
              " '3 - three',\n",
              " '4 - four',\n",
              " '5 - five',\n",
              " '6 - six',\n",
              " '7 - seven',\n",
              " '8 - eight',\n",
              " '9 - nine']"
            ]
          },
          "execution_count": 4,
          "metadata": {},
          "output_type": "execute_result"
        }
      ],
      "source": [
        "class_names = train_data.classes\n",
        "\n",
        "class_names"
      ]
    },
    {
      "cell_type": "code",
      "execution_count": 5,
      "metadata": {},
      "outputs": [
        {
          "data": {
            "text/plain": [
              "tensor([5, 0, 4,  ..., 5, 6, 8])"
            ]
          },
          "execution_count": 5,
          "metadata": {},
          "output_type": "execute_result"
        }
      ],
      "source": [
        "train_data.targets"
      ]
    },
    {
      "cell_type": "code",
      "execution_count": 6,
      "metadata": {},
      "outputs": [
        {
          "name": "stdout",
          "output_type": "stream",
          "text": [
            "torch.Size([1, 28, 28])\n",
            "5\n"
          ]
        }
      ],
      "source": [
        "img, lbl = train_data[ 0]\n",
        "\n",
        "print( img.shape)\n",
        "print( lbl)"
      ]
    },
    {
      "cell_type": "markdown",
      "metadata": {
        "id": "qxZW-uAbxe_F"
      },
      "source": [
        "## 6. Visualize at least 5 different samples of the MNIST training dataset."
      ]
    },
    {
      "cell_type": "code",
      "execution_count": 7,
      "metadata": {
        "id": "QVFsYi1PbItE"
      },
      "outputs": [
        {
          "data": {
            "image/png": "[encoded data removed]",
            "text/plain": [
              "<Figure size 1000x700 with 6 Axes>"
            ]
          },
          "metadata": {},
          "output_type": "display_data"
        }
      ],
      "source": [
        "import matplotlib.pyplot as plt\n",
        "import random\n",
        "\n",
        "samples = random.sample( range( len( train_data)), k=6)\n",
        "\n",
        "plt.figure( figsize=( 10, 7))\n",
        "\n",
        "nrows = 2\n",
        "ncols = 3\n",
        "\n",
        "for i, sample in enumerate( samples):\n",
        "\timage, label = train_data[ sample]\n",
        "\n",
        "\tplt.subplot( nrows, ncols, i + 1)\n",
        "\n",
        "\tplt.imshow( image.squeeze(), cmap=\"gray\")\n",
        "\n",
        "\tplt.axis( False)\n",
        "\n",
        "\tplt.title( class_names[ label])"
      ]
    },
    {
      "cell_type": "markdown",
      "metadata": {
        "id": "JAPDzW0wxhi3"
      },
      "source": [
        "## 7. Turn the MNIST train and test datasets into dataloaders using `torch.utils.data.DataLoader`, set the `batch_size=32`."
      ]
    },
    {
      "cell_type": "code",
      "execution_count": 8,
      "metadata": {
        "id": "ALA6MPcFbJXQ"
      },
      "outputs": [],
      "source": [
        "from torch.utils.data import DataLoader\n",
        "\n",
        "BATCH_SIZE = 32\n",
        "\n",
        "train_dataloader = DataLoader(\n",
        "\tdataset=train_data,\n",
        "\tbatch_size=BATCH_SIZE,\n",
        "\tshuffle=True\n",
        ")\n",
        "\n",
        "test_dataloader = DataLoader(\n",
        "\tdataset=test_data,\n",
        "\tbatch_size=BATCH_SIZE,\n",
        "\tshuffle=False\n",
        ")"
      ]
    },
    {
      "cell_type": "code",
      "execution_count": 9,
      "metadata": {},
      "outputs": [
        {
          "name": "stdout",
          "output_type": "stream",
          "text": [
            "Train DataLoader: <torch.utils.data.dataloader.DataLoader object at 0x00000239C5DEBF90>\n",
            "Test DataLoader: <torch.utils.data.dataloader.DataLoader object at 0x00000239C620E1D0>\n",
            "Length of train_dataloader: 1875 batches of 32\n",
            "Length of test_dataloader: 313 batches of 32\n"
          ]
        }
      ],
      "source": [
        "print( f\"Train DataLoader: { train_dataloader}\")\n",
        "print( f\"Test DataLoader: { test_dataloader}\")\n",
        "\n",
        "print( f\"Length of train_dataloader: { len( train_dataloader)} batches of { BATCH_SIZE}\")\n",
        "print( f\"Length of test_dataloader: { len( test_dataloader)} batches of { BATCH_SIZE}\")"
      ]
    },
    {
      "cell_type": "markdown",
      "metadata": {
        "id": "bCCVfXk5xjYS"
      },
      "source": [
        "## 8. Recreate `model_2` used in notebook 03 (the same model from the [CNN Explainer website](https://poloclub.github.io/cnn-explainer/), also known as TinyVGG) capable of fitting on the MNIST dataset."
      ]
    },
    {
      "cell_type": "code",
      "execution_count": 10,
      "metadata": {
        "id": "5IKNF22XbKYS"
      },
      "outputs": [],
      "source": [
        "from torch import nn\n",
        "\n",
        "class MNISTModel( nn.Module):\n",
        "\n",
        "\tdef __init__( self, input_shape: int, hidden_units: int, output_shape: int):\n",
        "\n",
        "\t\tsuper().__init__()\n",
        "\n",
        "\t\tself.conv_block_1 = nn.Sequential(\n",
        "\t\t\tnn.Conv2d( in_channels=input_shape,\n",
        "\t\t\t\t\t   out_channels=hidden_units,\n",
        "\t\t\t\t\t   kernel_size=3,\n",
        "\t\t\t\t\t   stride=1,\n",
        "\t\t\t\t\t   padding=1),\n",
        "\t\t\tnn.ReLU(),\n",
        "\t\t\tnn.Conv2d( in_channels=hidden_units,\n",
        "\t\t\t\t\t   out_channels=hidden_units,\n",
        "\t\t\t\t\t   kernel_size=3,\n",
        "\t\t\t\t\t   stride=1,\n",
        "\t\t\t\t\t   padding=1),\n",
        "\t\t\tnn.ReLU(),\n",
        "\t\t\tnn.MaxPool2d( kernel_size=2)\n",
        "\t\t)\n",
        "\n",
        "\t\tself.conv_block_2 = nn.Sequential(\n",
        "\t\t\tnn.Conv2d( in_channels=hidden_units,\n",
        "\t\t\t\t\t   out_channels=hidden_units,\n",
        "\t\t\t\t\t   kernel_size=3,\n",
        "\t\t\t\t\t   stride=1,\n",
        "\t\t\t\t\t   padding=1),\n",
        "\t\t\tnn.ReLU(),\n",
        "\t\t\tnn.Conv2d( in_channels=hidden_units,\n",
        "\t\t\t\t\t   out_channels=hidden_units,\n",
        "\t\t\t\t\t   kernel_size=3,\n",
        "\t\t\t\t\t   stride=1,\n",
        "\t\t\t\t\t   padding=1),\n",
        "\t\t\tnn.ReLU(),\n",
        "\t\t\tnn.MaxPool2d( kernel_size=2)\n",
        "\t\t)\n",
        "\n",
        "\t\tself.classifier = nn.Sequential(\n",
        "\t\t\tnn.Flatten(),\n",
        "\t\t\tnn.Linear( in_features=hidden_units * 7 * 7,\n",
        "\t\t\t \t\t   out_features=output_shape)\n",
        "\t\t)\n",
        "\n",
        "\tdef forward( self, x):\n",
        "\t\tx = self.conv_block_1( x)\n",
        "\t\t# print( x.shape)\n",
        "\t\tx = self.conv_block_2( x)\n",
        "\t\t# print( x.shape)\n",
        "\t\tx = self.classifier( x)\n",
        "\t\t# print( x.shape)\n",
        "\t\treturn x"
      ]
    },
    {
      "cell_type": "code",
      "execution_count": 11,
      "metadata": {},
      "outputs": [
        {
          "data": {
            "text/plain": [
              "MNISTModel(\n",
              "  (conv_block_1): Sequential(\n",
              "    (0): Conv2d(1, 10, kernel_size=(3, 3), stride=(1, 1), padding=(1, 1))\n",
              "    (1): ReLU()\n",
              "    (2): Conv2d(10, 10, kernel_size=(3, 3), stride=(1, 1), padding=(1, 1))\n",
              "    (3): ReLU()\n",
              "    (4): MaxPool2d(kernel_size=2, stride=2, padding=0, dilation=1, ceil_mode=False)\n",
              "  )\n",
              "  (conv_block_2): Sequential(\n",
              "    (0): Conv2d(10, 10, kernel_size=(3, 3), stride=(1, 1), padding=(1, 1))\n",
              "    (1): ReLU()\n",
              "    (2): Conv2d(10, 10, kernel_size=(3, 3), stride=(1, 1), padding=(1, 1))\n",
              "    (3): ReLU()\n",
              "    (4): MaxPool2d(kernel_size=2, stride=2, padding=0, dilation=1, ceil_mode=False)\n",
              "  )\n",
              "  (classifier): Sequential(\n",
              "    (0): Flatten(start_dim=1, end_dim=-1)\n",
              "    (1): Linear(in_features=490, out_features=10, bias=True)\n",
              "  )\n",
              ")"
            ]
          },
          "execution_count": 11,
          "metadata": {},
          "output_type": "execute_result"
        }
      ],
      "source": [
        "torch.manual_seed( 42)\n",
        "\n",
        "temp_model = MNISTModel( input_shape=1, hidden_units=10, output_shape=len( class_names))\n",
        "\n",
        "temp_model.to( device)"
      ]
    },
    {
      "cell_type": "code",
      "execution_count": 12,
      "metadata": {},
      "outputs": [
        {
          "data": {
            "text/plain": [
              "tensor([[ 0.0366, -0.0940,  0.0686, -0.0485,  0.0068,  0.0290,  0.0132,  0.0084,\n",
              "         -0.0030, -0.0185]], device='cuda:0', grad_fn=<AddmmBackward0>)"
            ]
          },
          "execution_count": 12,
          "metadata": {},
          "output_type": "execute_result"
        }
      ],
      "source": [
        "rand_image_tensor = torch.randn( size=( 1, 28, 28))\n",
        "\n",
        "temp_model( rand_image_tensor.unsqueeze( 0).to( device))"
      ]
    },
    {
      "cell_type": "markdown",
      "metadata": {
        "id": "sf_3zUr7xlhy"
      },
      "source": [
        "## 9. Train the model you built in exercise 8. for 5 epochs on CPU and GPU and see how long it takes on each."
      ]
    },
    {
      "cell_type": "markdown",
      "metadata": {},
      "source": [
        "### 9.1 Timer"
      ]
    },
    {
      "cell_type": "code",
      "execution_count": 13,
      "metadata": {},
      "outputs": [],
      "source": [
        "from timeit import default_timer as timer\n",
        "\n",
        "def time():\n",
        "\treturn timer()\n",
        "\n",
        "def total_time( start: float, end: float, device: torch.device = device, verbose=0):\n",
        "\ttotal_time = end - start\n",
        "\n",
        "\tif verbose != 0:\n",
        "\t\tprint( f\"Train time on { device}: { total_time:3f} seconds\")\n",
        "\n",
        "\treturn total_time"
      ]
    },
    {
      "cell_type": "markdown",
      "metadata": {},
      "source": [
        "### 9.2 Accuracy function"
      ]
    },
    {
      "cell_type": "code",
      "execution_count": 14,
      "metadata": {},
      "outputs": [],
      "source": [
        "from helper_functions import accuracy_fn"
      ]
    },
    {
      "cell_type": "markdown",
      "metadata": {},
      "source": [
        "### 9.3 Train step"
      ]
    },
    {
      "cell_type": "code",
      "execution_count": 15,
      "metadata": {},
      "outputs": [],
      "source": [
        "def train_step( model: nn.Module,\n",
        "\t\t\t    dataloader: DataLoader,\n",
        "\t\t\t\tloss_fn: nn.Module,\n",
        "\t\t\t\toptimizer: torch.optim.Optimizer,\n",
        "\t\t\t\taccuracy_fn=accuracy_fn,\n",
        "\t\t\t\tdevice: torch.device=device,\n",
        "\t\t\t\tverbose=0):\n",
        "\t\n",
        "\ttrain_loss, train_acc = 0, 0\n",
        "\n",
        "\tN = len( dataloader)\n",
        "\n",
        "\tmodel.train()\n",
        "\n",
        "\tfor X, y in dataloader:\n",
        "\n",
        "\t\tX, y = X.to( device), y.to( device)\n",
        "\n",
        "\t\t# 1. Forward pass\n",
        "\t\ty_pred = model( X)\n",
        "\n",
        "\t\t# 2. Calculate the loss and accuracy (per batch)\n",
        "\t\tloss = loss_fn( y_pred, y)\n",
        "\t\ttrain_loss += loss\n",
        "\t\ttrain_acc += accuracy_fn( y_true=y,\n",
        "\t\t\t\t\t\t\t\t  y_pred=y_pred.argmax( dim=1))\n",
        "\t\t\n",
        "\t\t# 3. Optimizer zero grad\n",
        "\t\toptimizer.zero_grad()\n",
        "\n",
        "\t\t# 4. Loss backward\n",
        "\t\tloss.backward()\n",
        "\n",
        "\t\t# 5. Optimizer step\n",
        "\t\toptimizer.step()\n",
        "\n",
        "\ttrain_loss /= N\n",
        "\ttrain_acc /= N\n",
        "\n",
        "\tif verbose != 0:\n",
        "\t\tprint( f\"Train Loss: { train_loss:.5f} | Train Accuracy: { train_acc:.4f}%\")\n",
        "\n",
        "\treturn train_loss.item(), train_acc"
      ]
    },
    {
      "cell_type": "markdown",
      "metadata": {},
      "source": [
        "### 9.4 Test step"
      ]
    },
    {
      "cell_type": "code",
      "execution_count": 16,
      "metadata": {},
      "outputs": [],
      "source": [
        "def test_step( model: nn.Module,\n",
        "\t\t\t   dataloader: DataLoader,\n",
        "\t\t\t   loss_fn: nn.Module,\n",
        "\t\t\t   accuracy_fn=accuracy_fn,\n",
        "\t\t\t   device: torch.device=device,\n",
        "\t\t\t   verbose=0):\n",
        "\t\n",
        "\ttest_loss, test_acc = 0, 0\n",
        "\n",
        "\tN = len( dataloader)\n",
        "\n",
        "\tmodel.eval()\n",
        "\n",
        "\twith torch.inference_mode():\n",
        "\t\tfor X, y in dataloader:\n",
        "\n",
        "\t\t\tX, y = X.to( device), y.to( device)\n",
        "\n",
        "\t\t\t# 1. Forward pass\n",
        "\t\t\ty_pred = model( X)\n",
        "\n",
        "\t\t\t# 2. Calculate loss/acc\n",
        "\t\t\ttest_loss += loss_fn( y_pred, y)\n",
        "\t\t\ttest_acc += accuracy_fn( y_true=y,\n",
        "\t\t\t\t\t\t\t\t\t y_pred=y_pred.argmax( dim=1))\n",
        "\t\t\t\n",
        "\t\ttest_loss /= N\n",
        "\t\ttest_acc /= N\n",
        "\n",
        "\t\tif verbose != 0:\n",
        "\t\t\tprint( f\"Test Loss: { test_loss:.5f} | Test Accuracy: { test_acc:.4f}%\")\n",
        "\n",
        "\treturn test_loss.item(), test_acc"
      ]
    },
    {
      "cell_type": "markdown",
      "metadata": {},
      "source": [
        "### 9.5 Fit function"
      ]
    },
    {
      "cell_type": "code",
      "execution_count": 17,
      "metadata": {},
      "outputs": [],
      "source": [
        "from tqdm.auto import tqdm\n",
        "\n",
        "def fit( model: nn.Module,\n",
        "\t\t train_dataloader: DataLoader,\n",
        "\t\t val_dataloader: DataLoader,\n",
        "\t\t epochs: int,\n",
        "\t\t loss_fn: nn.Module,\n",
        "\t\t optimizer: torch.optim.Optimizer,\n",
        "\t\t accuracy_fn=accuracy_fn,\n",
        "\t\t device: torch.device=device,\n",
        "\t\t verbose=0,\n",
        "\t\t seed=42):\n",
        "\t\n",
        "\ttorch.manual_seed( seed)\n",
        "\ttorch.cuda.manual_seed( seed)\n",
        "\n",
        "\thistory = {\n",
        "\t\t\"loss\": [],\n",
        "\t\t\"acc\": [],\n",
        "\t\t\"val_loss\": [],\n",
        "\t\t\"val_acc\": []\n",
        "\t}\n",
        "\n",
        "\tstart = time()\n",
        "\n",
        "\tfor epoch in tqdm( range( epochs)):\n",
        "\n",
        "\t\tprint( f\"\\nEpoch: { epoch + 1}\\n----------\")\n",
        "\n",
        "\t\tloss, acc = train_step( model=model,\n",
        "\t\t\t \t\tdataloader=train_dataloader,\n",
        "\t\t\t\t\tloss_fn=loss_fn,\n",
        "\t\t\t\t\toptimizer=optimizer,\n",
        "\t\t\t\t\taccuracy_fn=accuracy_fn,\n",
        "\t\t\t\t\tdevice=device,\n",
        "\t\t\t\t\tverbose=verbose)\n",
        "\t\t\n",
        "\t\tval_loss, val_acc = test_step( model=model,\n",
        "\t\t\t\t   dataloader=val_dataloader,\n",
        "\t\t\t\t   loss_fn=loss_fn,\n",
        "\t\t\t\t   accuracy_fn=accuracy_fn,\n",
        "\t\t\t\t   device=device,\n",
        "\t\t\t\t   verbose=verbose)\n",
        "\t\t\n",
        "\t\thistory[ \"loss\"].append( loss)\n",
        "\t\thistory[ \"acc\"].append( acc)\n",
        "\t\thistory[ \"val_loss\"].append( val_loss)\n",
        "\t\thistory[ \"val_acc\"].append( val_acc)\n",
        "\n",
        "\tend = time()\n",
        "\n",
        "\ttotal = total_time( start=start, end=end, device=device, verbose=verbose)\n",
        "\n",
        "\treturn history, total\n"
      ]
    },
    {
      "cell_type": "markdown",
      "metadata": {},
      "source": [
        "### 9.6 Model Evaluation"
      ]
    },
    {
      "cell_type": "code",
      "execution_count": 18,
      "metadata": {},
      "outputs": [],
      "source": [
        "def eval_model( model: nn.Module,\n",
        "\t\t\t    dataloader: DataLoader,\n",
        "\t\t\t\tloss_fn: nn.Module,\n",
        "\t\t\t\taccuracy_fn=accuracy_fn,\n",
        "\t\t\t\tdevice: torch.device=device):\n",
        "\t\n",
        "\tloss, acc = 0, 0\n",
        "\n",
        "\tN = len( dataloader)\n",
        "\n",
        "\tmodel.eval()\n",
        "\n",
        "\twith torch.inference_mode():\n",
        "\t\tfor X, y in tqdm( dataloader):\n",
        "\n",
        "\t\t\tX, y = X.to( device), y.to( device)\n",
        "\n",
        "\t\t\ty_pred = model( X)\n",
        "\n",
        "\t\t\tloss += loss_fn( y_pred, y)\n",
        "\t\t\tacc += accuracy_fn( y_true=y,\n",
        "\t\t\t\t\t\t\t\ty_pred=y_pred.argmax( dim=1))\n",
        "\t\t\t\n",
        "\t\tloss /= N\n",
        "\t\tacc /= N\n",
        "\n",
        "\treturn {\n",
        "\t\t\"model_name\": model.__class__.__name__,\n",
        "\t\t\"model_loss\": loss.item(),\n",
        "\t\t\"model_acc\": acc\n",
        "\t}"
      ]
    },
    {
      "cell_type": "markdown",
      "metadata": {},
      "source": [
        "### 9.7 training on CPU"
      ]
    },
    {
      "cell_type": "code",
      "execution_count": 19,
      "metadata": {},
      "outputs": [
        {
          "data": {
            "text/plain": [
              "MNISTModel(\n",
              "  (conv_block_1): Sequential(\n",
              "    (0): Conv2d(1, 10, kernel_size=(3, 3), stride=(1, 1), padding=(1, 1))\n",
              "    (1): ReLU()\n",
              "    (2): Conv2d(10, 10, kernel_size=(3, 3), stride=(1, 1), padding=(1, 1))\n",
              "    (3): ReLU()\n",
              "    (4): MaxPool2d(kernel_size=2, stride=2, padding=0, dilation=1, ceil_mode=False)\n",
              "  )\n",
              "  (conv_block_2): Sequential(\n",
              "    (0): Conv2d(10, 10, kernel_size=(3, 3), stride=(1, 1), padding=(1, 1))\n",
              "    (1): ReLU()\n",
              "    (2): Conv2d(10, 10, kernel_size=(3, 3), stride=(1, 1), padding=(1, 1))\n",
              "    (3): ReLU()\n",
              "    (4): MaxPool2d(kernel_size=2, stride=2, padding=0, dilation=1, ceil_mode=False)\n",
              "  )\n",
              "  (classifier): Sequential(\n",
              "    (0): Flatten(start_dim=1, end_dim=-1)\n",
              "    (1): Linear(in_features=490, out_features=10, bias=True)\n",
              "  )\n",
              ")"
            ]
          },
          "execution_count": 19,
          "metadata": {},
          "output_type": "execute_result"
        }
      ],
      "source": [
        "model_cpu = MNISTModel( input_shape=1, hidden_units=10, output_shape=len( class_names)).to( \"cpu\")\n",
        "\n",
        "model_cpu"
      ]
    },
    {
      "cell_type": "markdown",
      "metadata": {},
      "source": [
        "#### 9.7.1 Setup loss function and optimizer"
      ]
    },
    {
      "cell_type": "code",
      "execution_count": 20,
      "metadata": {
        "id": "jSo6vVWFbNLD"
      },
      "outputs": [],
      "source": [
        "loss_fn = torch.nn.CrossEntropyLoss()\n",
        "optimizer = torch.optim.SGD( params=model_cpu.parameters(), lr=0.1)"
      ]
    },
    {
      "cell_type": "markdown",
      "metadata": {},
      "source": [
        "#### 9.7.2 Fitting model"
      ]
    },
    {
      "cell_type": "code",
      "execution_count": 21,
      "metadata": {},
      "outputs": [
        {
          "data": {
            "application/vnd.jupyter.widget-view+json": {
              "model_id": "814009fdb1894f1090d42a1efb05365a",
              "version_major": 2,
              "version_minor": 0
            },
            "text/plain": [
              "  0%|          | 0/5 [00:00<?, ?it/s]"
            ]
          },
          "metadata": {},
          "output_type": "display_data"
        },
        {
          "name": "stdout",
          "output_type": "stream",
          "text": [
            "\n",
            "Epoch: 1\n",
            "----------\n",
            "Train Loss: 0.23989 | Train Accuracy: 92.0817%\n",
            "Test Loss: 0.06988 | Test Accuracy: 97.7236%\n",
            "\n",
            "Epoch: 2\n",
            "----------\n",
            "Train Loss: 0.07345 | Train Accuracy: 97.7183%\n",
            "Test Loss: 0.05238 | Test Accuracy: 98.4125%\n",
            "\n",
            "Epoch: 3\n",
            "----------\n",
            "Train Loss: 0.05758 | Train Accuracy: 98.2367%\n",
            "Test Loss: 0.05793 | Test Accuracy: 98.2228%\n",
            "\n",
            "Epoch: 4\n",
            "----------\n",
            "Train Loss: 0.04977 | Train Accuracy: 98.4617%\n",
            "Test Loss: 0.04810 | Test Accuracy: 98.4026%\n",
            "\n",
            "Epoch: 5\n",
            "----------\n",
            "Train Loss: 0.04287 | Train Accuracy: 98.6500%\n",
            "Test Loss: 0.04105 | Test Accuracy: 98.6921%\n",
            "Train time on cpu: 307.771593 seconds\n"
          ]
        }
      ],
      "source": [
        "history_cpu, total_train_time_cpu = fit( model=model_cpu,\n",
        "\t\t\t\t\t\t\t\t\t\t train_dataloader=train_dataloader,\n",
        "\t\t\t\t\t\t\t\t\t\t val_dataloader=test_dataloader,\n",
        "\t\t\t\t\t\t\t\t\t\t epochs=5,\n",
        "\t\t\t\t\t\t\t\t\t\t loss_fn=loss_fn,\n",
        "\t\t\t\t\t\t\t\t\t\t optimizer=optimizer,\n",
        "\t\t\t\t\t\t\t\t\t\t accuracy_fn=accuracy_fn,\n",
        "\t\t\t\t\t\t\t\t\t\t device=\"cpu\",\n",
        "\t\t\t\t\t\t\t\t\t\t verbose=1)"
      ]
    },
    {
      "cell_type": "markdown",
      "metadata": {},
      "source": [
        "#### 9.7.3 Plotting loss and accuracy curve"
      ]
    },
    {
      "cell_type": "code",
      "execution_count": 22,
      "metadata": {},
      "outputs": [],
      "source": [
        "import numpy as np\n",
        "\n",
        "def plot( history):\n",
        "\tloss, val_loss = history[ \"loss\"], history[ \"val_loss\"]\n",
        "\tacc, val_acc = history[ \"acc\"], history[ \"val_acc\"]\n",
        "\n",
        "\tx = np.arange( 1, len( loss) + 1)\n",
        "\n",
        "\tplt.figure( figsize=( 10, 5))\n",
        "\n",
        "\tplt.subplot( 1, 2, 1)\n",
        "\tplt.title( \"Loss\")\n",
        "\tplt.xlabel( \"Epoch\")\n",
        "\tplt.plot( x, loss, label=\"Train\")\n",
        "\tplt.plot( x, val_loss, label=\"Validation\")\n",
        "\tplt.legend()\n",
        "\n",
        "\tplt.subplot( 1, 2, 2)\n",
        "\tplt.title( \"Accuracy\")\n",
        "\tplt.xlabel( \"Epoch\")\n",
        "\tplt.plot( x, acc, label=\"Train\")\n",
        "\tplt.plot( x, val_acc, label=\"Validation\")\n",
        "\tplt.legend()\n",
        "\n",
        "\tplt.show()"
      ]
    },
    {
      "cell_type": "code",
      "execution_count": 23,
      "metadata": {},
      "outputs": [
        {
          "data": {
            "image/png": "[encoded data removed]",
            "text/plain": [
              "<Figure size 1000x500 with 2 Axes>"
            ]
          },
          "metadata": {},
          "output_type": "display_data"
        }
      ],
      "source": [
        "plot( history_cpu)"
      ]
    },
    {
      "cell_type": "markdown",
      "metadata": {},
      "source": [
        "#### 9.7.4 Evaluate model"
      ]
    },
    {
      "cell_type": "code",
      "execution_count": 24,
      "metadata": {},
      "outputs": [
        {
          "data": {
            "application/vnd.jupyter.widget-view+json": {
              "model_id": "2216eddc5afe4fe39489bf4f5378458f",
              "version_major": 2,
              "version_minor": 0
            },
            "text/plain": [
              "  0%|          | 0/313 [00:00<?, ?it/s]"
            ]
          },
          "metadata": {},
          "output_type": "display_data"
        },
        {
          "data": {
            "text/plain": [
              "{'model_name': 'MNISTModel',\n",
              " 'model_loss': 0.04104901850223541,\n",
              " 'model_acc': 98.69209265175719}"
            ]
          },
          "execution_count": 24,
          "metadata": {},
          "output_type": "execute_result"
        }
      ],
      "source": [
        "model_cpu_results = eval_model( model=model_cpu,\n",
        "\t\t\t\t\t\t\t\tdataloader=test_dataloader,\n",
        "\t\t\t\t\t\t\t\tloss_fn=loss_fn,\n",
        "\t\t\t\t\t\t\t\taccuracy_fn=accuracy_fn,\n",
        "\t\t\t\t\t\t\t\tdevice=\"cpu\")\n",
        "\n",
        "model_cpu_results"
      ]
    },
    {
      "cell_type": "markdown",
      "metadata": {},
      "source": [
        "### 9.8 training on GPU"
      ]
    },
    {
      "cell_type": "code",
      "execution_count": 25,
      "metadata": {},
      "outputs": [
        {
          "data": {
            "text/plain": [
              "MNISTModel(\n",
              "  (conv_block_1): Sequential(\n",
              "    (0): Conv2d(1, 10, kernel_size=(3, 3), stride=(1, 1), padding=(1, 1))\n",
              "    (1): ReLU()\n",
              "    (2): Conv2d(10, 10, kernel_size=(3, 3), stride=(1, 1), padding=(1, 1))\n",
              "    (3): ReLU()\n",
              "    (4): MaxPool2d(kernel_size=2, stride=2, padding=0, dilation=1, ceil_mode=False)\n",
              "  )\n",
              "  (conv_block_2): Sequential(\n",
              "    (0): Conv2d(10, 10, kernel_size=(3, 3), stride=(1, 1), padding=(1, 1))\n",
              "    (1): ReLU()\n",
              "    (2): Conv2d(10, 10, kernel_size=(3, 3), stride=(1, 1), padding=(1, 1))\n",
              "    (3): ReLU()\n",
              "    (4): MaxPool2d(kernel_size=2, stride=2, padding=0, dilation=1, ceil_mode=False)\n",
              "  )\n",
              "  (classifier): Sequential(\n",
              "    (0): Flatten(start_dim=1, end_dim=-1)\n",
              "    (1): Linear(in_features=490, out_features=10, bias=True)\n",
              "  )\n",
              ")"
            ]
          },
          "execution_count": 25,
          "metadata": {},
          "output_type": "execute_result"
        }
      ],
      "source": [
        "model_gpu = MNISTModel( input_shape=1, hidden_units=10, output_shape=len( class_names)).to( device)\n",
        "\n",
        "model_gpu"
      ]
    },
    {
      "cell_type": "markdown",
      "metadata": {},
      "source": [
        "#### 9.8.1 Setup loss function and optimizer"
      ]
    },
    {
      "cell_type": "code",
      "execution_count": 26,
      "metadata": {},
      "outputs": [],
      "source": [
        "loss_fn = torch.nn.CrossEntropyLoss()\n",
        "optimizer = torch.optim.SGD( params=model_gpu.parameters(), lr=0.1)"
      ]
    },
    {
      "cell_type": "markdown",
      "metadata": {},
      "source": [
        "#### 9.8.2 Fitting model"
      ]
    },
    {
      "cell_type": "code",
      "execution_count": 27,
      "metadata": {},
      "outputs": [
        {
          "data": {
            "application/vnd.jupyter.widget-view+json": {
              "model_id": "f448b97293cf428e86c21ae4004e6ecd",
              "version_major": 2,
              "version_minor": 0
            },
            "text/plain": [
              "  0%|          | 0/5 [00:00<?, ?it/s]"
            ]
          },
          "metadata": {},
          "output_type": "display_data"
        },
        {
          "name": "stdout",
          "output_type": "stream",
          "text": [
            "\n",
            "Epoch: 1\n",
            "----------\n",
            "Train Loss: 0.35252 | Train Accuracy: 87.8283%\n",
            "Test Loss: 0.07897 | Test Accuracy: 97.4541%\n",
            "\n",
            "Epoch: 2\n",
            "----------\n",
            "Train Loss: 0.07669 | Train Accuracy: 97.6350%\n",
            "Test Loss: 0.05609 | Test Accuracy: 98.2029%\n",
            "\n",
            "Epoch: 3\n",
            "----------\n",
            "Train Loss: 0.05919 | Train Accuracy: 98.1500%\n",
            "Test Loss: 0.05544 | Test Accuracy: 98.3027%\n",
            "\n",
            "Epoch: 4\n",
            "----------\n",
            "Train Loss: 0.05002 | Train Accuracy: 98.4300%\n",
            "Test Loss: 0.05046 | Test Accuracy: 98.3726%\n",
            "\n",
            "Epoch: 5\n",
            "----------\n",
            "Train Loss: 0.04325 | Train Accuracy: 98.6367%\n",
            "Test Loss: 0.04750 | Test Accuracy: 98.4525%\n",
            "Train time on cuda: 127.057575 seconds\n"
          ]
        }
      ],
      "source": [
        "history_gpu, total_train_time_gpu = fit( model=model_gpu,\n",
        "\t\t\t\t\t\t\t\t\t\t train_dataloader=train_dataloader,\n",
        "\t\t\t\t\t\t\t\t\t\t val_dataloader=test_dataloader,\n",
        "\t\t\t\t\t\t\t\t\t\t epochs=5,\n",
        "\t\t\t\t\t\t\t\t\t\t loss_fn=loss_fn,\n",
        "\t\t\t\t\t\t\t\t\t\t optimizer=optimizer,\n",
        "\t\t\t\t\t\t\t\t\t\t accuracy_fn=accuracy_fn,\n",
        "\t\t\t\t\t\t\t\t\t\t device=device,\n",
        "\t\t\t\t\t\t\t\t\t\t verbose=1)"
      ]
    },
    {
      "cell_type": "markdown",
      "metadata": {},
      "source": [
        "#### 9.7.3 Plotting loss and accuracy curve"
      ]
    },
    {
      "cell_type": "code",
      "execution_count": 28,
      "metadata": {},
      "outputs": [
        {
          "data": {
            "image/png": "[encoded data removed]",
            "text/plain": [
              "<Figure size 1000x500 with 2 Axes>"
            ]
          },
          "metadata": {},
          "output_type": "display_data"
        }
      ],
      "source": [
        "plot( history_gpu)"
      ]
    },
    {
      "cell_type": "markdown",
      "metadata": {},
      "source": [
        "#### 9.7.4 Evaluate model"
      ]
    },
    {
      "cell_type": "code",
      "execution_count": 29,
      "metadata": {},
      "outputs": [
        {
          "data": {
            "application/vnd.jupyter.widget-view+json": {
              "model_id": "76e2c5423de1492fa90b10f64a8461ac",
              "version_major": 2,
              "version_minor": 0
            },
            "text/plain": [
              "  0%|          | 0/313 [00:00<?, ?it/s]"
            ]
          },
          "metadata": {},
          "output_type": "display_data"
        },
        {
          "data": {
            "text/plain": [
              "{'model_name': 'MNISTModel',\n",
              " 'model_loss': 0.04750305041670799,\n",
              " 'model_acc': 98.45247603833866}"
            ]
          },
          "execution_count": 29,
          "metadata": {},
          "output_type": "execute_result"
        }
      ],
      "source": [
        "model_gpu_results = eval_model( model=model_gpu,\n",
        "\t\t\t\t\t\t\t\tdataloader=test_dataloader,\n",
        "\t\t\t\t\t\t\t\tloss_fn=loss_fn,\n",
        "\t\t\t\t\t\t\t\taccuracy_fn=accuracy_fn,\n",
        "\t\t\t\t\t\t\t\tdevice=device)\n",
        "\n",
        "model_gpu_results"
      ]
    },
    {
      "cell_type": "markdown",
      "metadata": {
        "id": "w1CsHhPpxp1w"
      },
      "source": [
        "## 10. Make predictions using your trained model and visualize at least 5 of them comparing the prediciton to the target label."
      ]
    },
    {
      "cell_type": "code",
      "execution_count": 30,
      "metadata": {
        "id": "_YGgZvSobNxu"
      },
      "outputs": [],
      "source": [
        "def make_prediction( model: nn.Module,\n",
        "\t\t\t\t\t data: list,\n",
        "\t\t\t\t\t device: torch.device = device):\n",
        "\t\n",
        "\tpred_probs = []\n",
        "\n",
        "\tmodel.eval()\n",
        "\n",
        "\twith torch.inference_mode():\n",
        "\t\tfor sample in data:\n",
        "\t\t\tsample = torch.unsqueeze( sample, dim=0).to( device)\n",
        "\n",
        "\t\t\tpred_logits = model( sample)\n",
        "\n",
        "\t\t\tpred_prob = torch.softmax( pred_logits.squeeze(), dim=0)\n",
        "\n",
        "\t\t\tpred_probs.append( pred_prob.cpu())\n",
        "\n",
        "\treturn torch.stack( pred_probs)"
      ]
    },
    {
      "cell_type": "code",
      "execution_count": 31,
      "metadata": {},
      "outputs": [
        {
          "data": {
            "text/plain": [
              "torch.Size([1, 28, 28])"
            ]
          },
          "execution_count": 31,
          "metadata": {},
          "output_type": "execute_result"
        }
      ],
      "source": [
        "test_samples = []\n",
        "test_labels = []\n",
        "\n",
        "for sample, label in random.sample( list( test_data), k=9):\n",
        "\ttest_samples.append( sample)\n",
        "\ttest_labels.append( label)\n",
        "\n",
        "test_samples[ 0].shape"
      ]
    },
    {
      "cell_type": "code",
      "execution_count": 32,
      "metadata": {},
      "outputs": [
        {
          "data": {
            "text/plain": [
              "tensor([[1.4737e-06, 5.8577e-04, 4.2841e-07, 1.3493e-02, 9.3703e-01, 1.3306e-03,\n",
              "         1.4166e-06, 6.5964e-03, 1.8280e-03, 3.9128e-02],\n",
              "        [9.9994e-01, 1.2432e-10, 1.4844e-05, 2.6293e-09, 6.7831e-06, 7.3183e-11,\n",
              "         2.7705e-05, 8.8815e-11, 1.0106e-05, 4.7870e-08]])"
            ]
          },
          "execution_count": 32,
          "metadata": {},
          "output_type": "execute_result"
        }
      ],
      "source": [
        "pred_probs = make_prediction( model=model_gpu,\n",
        "\t\t\t\t\t\t\t  data=test_samples)\n",
        "\n",
        "pred_probs[ :2]"
      ]
    },
    {
      "cell_type": "code",
      "execution_count": 33,
      "metadata": {},
      "outputs": [
        {
          "data": {
            "text/plain": [
              "tensor([4, 0])"
            ]
          },
          "execution_count": 33,
          "metadata": {},
          "output_type": "execute_result"
        }
      ],
      "source": [
        "pred_classes = pred_probs.argmax( dim=1)\n",
        "\n",
        "pred_classes[ :2]"
      ]
    },
    {
      "cell_type": "code",
      "execution_count": 34,
      "metadata": {},
      "outputs": [
        {
          "data": {
            "image/png": "[encoded data removed]",
            "text/plain": [
              "<Figure size 900x900 with 9 Axes>"
            ]
          },
          "metadata": {},
          "output_type": "display_data"
        }
      ],
      "source": [
        "plt.figure( figsize=( 9, 9))\n",
        "\n",
        "nrows = 3\n",
        "ncols = 3\n",
        "\n",
        "for i, sample in enumerate( test_samples):\n",
        "\tplt.subplot( nrows, ncols, i + 1)\n",
        "\n",
        "\tplt.imshow( sample.squeeze(), cmap=\"gray\")\n",
        "\n",
        "\tplt.axis( False)\n",
        "\n",
        "\tpred_label = class_names[ pred_classes[ i]]\n",
        "\n",
        "\ttruth_label = class_names[ test_labels[ i]]\n",
        "\n",
        "\ttitle_text = f\"Pred: { pred_label} | Truth: { truth_label}\"\n",
        "\n",
        "\tif pred_label == truth_label:\n",
        "\t\tplt.title( title_text, fontsize=10, c=\"g\")\n",
        "\telse:\n",
        "\t\tplt.title( title_text, fontsize=10, c=\"r\")"
      ]
    },
    {
      "cell_type": "markdown",
      "metadata": {
        "id": "qQwzqlBWxrpG"
      },
      "source": [
        "## 11. Plot a confusion matrix comparing your model's predictions to the truth labels."
      ]
    },
    {
      "cell_type": "code",
      "execution_count": 35,
      "metadata": {
        "id": "vSrXiT_AbQ6e"
      },
      "outputs": [
        {
          "data": {
            "application/vnd.jupyter.widget-view+json": {
              "model_id": "913d45cf0aa747808af841e81541e4c4",
              "version_major": 2,
              "version_minor": 0
            },
            "text/plain": [
              "Making Predictions...:   0%|          | 0/313 [00:00<?, ?it/s]"
            ]
          },
          "metadata": {},
          "output_type": "display_data"
        },
        {
          "data": {
            "text/plain": [
              "tensor([7, 2, 1, 0, 4, 1, 8, 9, 5, 9])"
            ]
          },
          "execution_count": 35,
          "metadata": {},
          "output_type": "execute_result"
        }
      ],
      "source": [
        "y_preds = []\n",
        "\n",
        "model_gpu.eval()\n",
        "\n",
        "with torch.inference_mode():\n",
        "\tfor X, y in tqdm( test_dataloader, desc=\"Making Predictions...\"):\n",
        "\t\tX, y = X.to( device), y.to( device)\n",
        "\n",
        "\t\ty_logits = model_gpu( X)\n",
        "\n",
        "\t\ty_pred = torch.softmax( y_logits.squeeze(), dim=0).argmax( dim=1)\n",
        "\n",
        "\t\ty_preds.append( y_pred.cpu())\n",
        "\n",
        "y_pred_tensor = torch.cat( y_preds)\n",
        "y_pred_tensor[ :10]"
      ]
    },
    {
      "cell_type": "code",
      "execution_count": 36,
      "metadata": {},
      "outputs": [
        {
          "data": {
            "text/plain": [
              "tensor([[ 948,    2,    2,    0,    0,    5,    8,    2,    8,    5],\n",
              "        [   0, 1128,    0,    0,    4,    0,    3,    0,    0,    0],\n",
              "        [  12,  117,  824,   18,    6,    1,    2,   17,   35,    0],\n",
              "        [   3,   17,   14,  896,    0,   33,    0,   12,   30,    5],\n",
              "        [   4,   16,    0,    0,  923,    5,    6,    1,    8,   19],\n",
              "        [   2,    9,    2,   21,    3,  791,   20,    2,   27,   15],\n",
              "        [  17,    9,    0,    0,    9,   13,  899,    0,   11,    0],\n",
              "        [   1,   47,    9,   11,    5,    8,    0,  915,    1,   31],\n",
              "        [   8,    9,    8,    3,    7,    5,    6,    2,  920,    6],\n",
              "        [   7,    8,    0,    3,   28,    8,    1,    5,   16,  933]])"
            ]
          },
          "execution_count": 36,
          "metadata": {},
          "output_type": "execute_result"
        }
      ],
      "source": [
        "from torchmetrics import ConfusionMatrix\n",
        "\n",
        "confmat = ConfusionMatrix( task=\"multiclass\",\n",
        "\t\t\t\t\t\t   num_classes=len( class_names))\n",
        "\n",
        "confmat_tensor = confmat( preds=y_pred_tensor,\n",
        "\t\t\t\t\t\t  target=test_data.targets)\n",
        "\n",
        "confmat_tensor"
      ]
    },
    {
      "cell_type": "code",
      "execution_count": 37,
      "metadata": {},
      "outputs": [
        {
          "data": {
            "text/plain": [
              "(<Figure size 700x700 with 1 Axes>,\n",
              " <Axes: xlabel='predicted label', ylabel='true label'>)"
            ]
          },
          "execution_count": 37,
          "metadata": {},
          "output_type": "execute_result"
        },
        {
          "data": {
            "image/png": "[encoded data removed]",
            "text/plain": [
              "<Figure size 700x700 with 1 Axes>"
            ]
          },
          "metadata": {},
          "output_type": "display_data"
        }
      ],
      "source": [
        "from mlxtend.plotting import plot_confusion_matrix\n",
        "\n",
        "plot_confusion_matrix( conf_mat=confmat_tensor.numpy(),\n",
        "\t\t\t\t\t   class_names=class_names,\n",
        "\t\t\t\t\t   figsize=( 7, 7))"
      ]
    }
  ],
  "metadata": {
    "accelerator": "GPU",
    "colab": {
      "authorship_tag": "ABX9TyMUsDcN/+FAm9Pf7Ifqs6AZ",
      "collapsed_sections": [],
      "include_colab_link": true,
      "name": "03_pytorch_computer_vision_exercises.ipynb",
      "provenance": []
    },
    "kernelspec": {
      "display_name": "Python 3",
      "name": "python3"
    },
    "language_info": {
      "codemirror_mode": {
        "name": "ipython",
        "version": 3
      },
      "file_extension": ".py",
      "mimetype": "text/x-python",
      "name": "python",
      "nbconvert_exporter": "python",
      "pygments_lexer": "ipython3",
      "version": "3.11.7"
    }
  },
  "nbformat": 4,
  "nbformat_minor": 0
}
